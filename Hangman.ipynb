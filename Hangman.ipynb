{
 "cells": [
  {
   "cell_type": "code",
   "execution_count": 3,
   "metadata": {
    "ExecuteTime": {
     "end_time": "2021-03-10T15:08:23.136619Z",
     "start_time": "2021-03-10T15:08:23.127654Z"
    }
   },
   "outputs": [],
   "source": [
    "def hangman():\n",
    "    ta = 0\n",
    "    while ta == 0:\n",
    "        print(\"Welcome to the Hangman game, please enter a word bellow\")\n",
    "        text = input(\"Write a word here\")\n",
    "        text = text.lower()\n",
    "        text_vec = []\n",
    "        for i in range(len(text)):\n",
    "            if text[i] != \" \":\n",
    "                text_vec.append(\"_\")\n",
    "            if text[i] == \" \":\n",
    "                text_vec.append(\" \")\n",
    "        chances = 0\n",
    "        finish = False\n",
    "        print(\"Warning this game word with lower case letters\")\n",
    "        while chances != 10 and finish == False:\n",
    "            print(text_vec)\n",
    "            letter = input(\"guess\")\n",
    "            letter=letter.lower()\n",
    "            if letter in text:\n",
    "                for i in range(len(text)):\n",
    "                    if text[i] == letter:\n",
    "                        text_vec[i]=letter\n",
    "                print(letter, \"is in the word\")\n",
    "                if \"_\" not in text_vec:\n",
    "                    finish = True\n",
    "                    print(text_vec)\n",
    "                    print(\"You win\")\n",
    "            if letter not in text:\n",
    "                chances += 1\n",
    "                print(letter, \"not in the word\")\n",
    "                if chances == 10:\n",
    "                    print(\"Game Over\")\n",
    "        ta=int(input(\"Do you wanna play again? [0]Yes\\[1]No\"))\n",
    "            "
   ]
  }
 ],
 "metadata": {
  "kernelspec": {
   "display_name": "Python 3",
   "language": "python",
   "name": "python3"
  },
  "language_info": {
   "codemirror_mode": {
    "name": "ipython",
    "version": 3
   },
   "file_extension": ".py",
   "mimetype": "text/x-python",
   "name": "python",
   "nbconvert_exporter": "python",
   "pygments_lexer": "ipython3",
   "version": "3.8.5"
  }
 },
 "nbformat": 4,
 "nbformat_minor": 4
}
